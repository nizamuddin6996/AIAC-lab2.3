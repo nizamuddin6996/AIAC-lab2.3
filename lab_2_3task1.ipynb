{
  "nbformat": 4,
  "nbformat_minor": 0,
  "metadata": {
    "colab": {
      "provenance": [],
      "authorship_tag": "ABX9TyOLcJ/N+P7E47eevMZyQ8z5",
      "include_colab_link": true
    },
    "kernelspec": {
      "name": "python3",
      "display_name": "Python 3"
    },
    "language_info": {
      "name": "python"
    }
  },
  "cells": [
    {
      "cell_type": "markdown",
      "metadata": {
        "id": "view-in-github",
        "colab_type": "text"
      },
      "source": [
        "<a href=\"https://colab.research.google.com/github/nizamuddin6996/AIAC-lab2.3/blob/main/lab_2_3task1.ipynb\" target=\"_parent\"><img src=\"https://colab.research.google.com/assets/colab-badge.svg\" alt=\"Open In Colab\"/></a>"
      ]
    },
    {
      "cell_type": "markdown",
      "source": [
        "Task Description#1\n",
        "● Use Google Gemini in Colab to write a function that reads a CSV file and calculates\n",
        "mean, min, max.\n",
        "Expected Output#1\n",
        "● Functional code with output and screenshot\n",
        "\n",
        "---\n",
        "\n"
      ],
      "metadata": {
        "id": "AoYixQ3mr-dz"
      }
    },
    {
      "cell_type": "code",
      "execution_count": 1,
      "metadata": {
        "colab": {
          "base_uri": "https://localhost:8080/",
          "height": 52
        },
        "id": "j3MNi_pOqpCb",
        "outputId": "31103913-8af3-4c5c-b95a-f073b66e4134"
      },
      "outputs": [
        {
          "output_type": "display_data",
          "data": {
            "text/plain": [
              "{'col1': {'mean': np.float64(3.0), 'min': 1, 'max': 5},\n",
              " 'col2': {'mean': np.float64(30.0), 'min': 10, 'max': 50}}"
            ]
          },
          "metadata": {}
        }
      ],
      "source": [
        "import pandas as pd\n",
        "\n",
        "def analyze_csv(file_path):\n",
        "  \"\"\"\n",
        "  Reads a CSV file and calculates mean, min, and max for numeric columns.\n",
        "\n",
        "  Args:\n",
        "    file_path: The path to the CSV file.\n",
        "\n",
        "  Returns:\n",
        "    A dictionary containing the mean, min, and max for each numeric column.\n",
        "  \"\"\"\n",
        "  try:\n",
        "    df = pd.read_csv(file_path)\n",
        "    numeric_cols = df.select_dtypes(include=['number'])\n",
        "    results = {}\n",
        "    for col in numeric_cols.columns:\n",
        "      results[col] = {\n",
        "          'mean': numeric_cols[col].mean(),\n",
        "          'min': numeric_cols[col].min(),\n",
        "          'max': numeric_cols[col].max()\n",
        "      }\n",
        "    return results\n",
        "  except FileNotFoundError:\n",
        "    return f\"Error: File not found at {file_path}\"\n",
        "  except Exception as e:\n",
        "    return f\"An error occurred: {e}\"\n",
        "\n",
        "# Example usage (assuming you have a CSV file named 'data.csv' in the same directory)\n",
        "# You can replace 'data.csv' with the actual path to your file.\n",
        "# For demonstration, let's create a dummy CSV file first:\n",
        "dummy_data = {'col1': [1, 2, 3, 4, 5], 'col2': [10, 20, 30, 40, 50], 'col3': ['A', 'B', 'C', 'D', 'E']}\n",
        "dummy_df = pd.DataFrame(dummy_data)\n",
        "dummy_df.to_csv('data.csv', index=False)\n",
        "\n",
        "analysis_results = analyze_csv('data.csv')\n",
        "display(analysis_results)"
      ]
    },
    {
      "cell_type": "code",
      "metadata": {
        "colab": {
          "base_uri": "https://localhost:8080/",
          "height": 34
        },
        "id": "4de59067",
        "outputId": "9ab8ba1c-1217-4e30-ae9f-529ec64ee566"
      },
      "source": [
        "analysis_results_google = analyze_csv('/content/GOOGLE.csv')\n",
        "display(analysis_results_google)"
      ],
      "execution_count": 2,
      "outputs": [
        {
          "output_type": "display_data",
          "data": {
            "text/plain": [
              "{'marks': {'mean': np.float64(25.6), 'min': 12, 'max': 53}}"
            ]
          },
          "metadata": {}
        }
      ]
    }
  ]
}