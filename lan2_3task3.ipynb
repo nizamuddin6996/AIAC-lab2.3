{
  "nbformat": 4,
  "nbformat_minor": 0,
  "metadata": {
    "colab": {
      "provenance": [],
      "authorship_tag": "ABX9TyNfuNcdW/3EBAdHZfpKTM4a",
      "include_colab_link": true
    },
    "kernelspec": {
      "name": "python3",
      "display_name": "Python 3"
    },
    "language_info": {
      "name": "python"
    }
  },
  "cells": [
    {
      "cell_type": "markdown",
      "metadata": {
        "id": "view-in-github",
        "colab_type": "text"
      },
      "source": [
        "<a href=\"https://colab.research.google.com/github/nizamuddin6996/AIAC-lab2.3/blob/main/lan2_3task3.ipynb\" target=\"_parent\"><img src=\"https://colab.research.google.com/assets/colab-badge.svg\" alt=\"Open In Colab\"/></a>"
      ]
    },
    {
      "cell_type": "markdown",
      "source": [
        "Task Description#3\n",
        "●\tAsk Gemini to explain a Python function (to calculate area of various shapes) line by line..\n",
        "Expected Output#3\n",
        "●\tDetailed explanation with code snippet\n",
        "\n"
      ],
      "metadata": {
        "id": "WjJgqnp3znVY"
      }
    },
    {
      "cell_type": "code",
      "execution_count": 1,
      "metadata": {
        "id": "jvf3-9mxzcj2"
      },
      "outputs": [],
      "source": [
        "import math\n",
        "\n",
        "def calculate_area(shape, *args):\n",
        "    \"\"\"\n",
        "    Calculates the area of various shapes.\n",
        "\n",
        "    Args:\n",
        "        shape (str): The name of the shape ('circle', 'square', 'rectangle', 'triangle').\n",
        "        *args: The dimensions of the shape.\n",
        "\n",
        "    Returns:\n",
        "        float: The area of the shape, or None if the shape is not supported or dimensions are invalid.\n",
        "    \"\"\"\n",
        "    if shape.lower() == 'circle':\n",
        "        if len(args) == 1:\n",
        "            radius = args[0]\n",
        "            return math.pi * radius**2\n",
        "        else:\n",
        "            print(\"Invalid number of arguments for circle. Please provide the radius.\")\n",
        "            return None\n",
        "    elif shape.lower() == 'square':\n",
        "        if len(args) == 1:\n",
        "            side = args[0]\n",
        "            return side**2\n",
        "        else:\n",
        "            print(\"Invalid number of arguments for square. Please provide the side length.\")\n",
        "            return None\n",
        "    elif shape.lower() == 'rectangle':\n",
        "        if len(args) == 2:\n",
        "            length = args[0]\n",
        "            width = args[1]\n",
        "            return length * width\n",
        "        else:\n",
        "            print(\"Invalid number of arguments for rectangle. Please provide the length and width.\")\n",
        "            return None\n",
        "    elif shape.lower() == 'triangle':\n",
        "        if len(args) == 2:\n",
        "            base = args[0]\n",
        "            height = args[1]\n",
        "            return 0.5 * base * height\n",
        "        else:\n",
        "            print(\"Invalid number of arguments for triangle. Please provide the base and height.\")\n",
        "            return None\n",
        "    else:\n",
        "        print(f\"Shape '{shape}' not supported.\")\n",
        "        return None\n",
        "\n",
        "# Example usage:\n",
        "# print(calculate_area('circle', 5))\n",
        "# print(calculate_area('square', 4))\n",
        "# print(calculate_area('rectangle', 3, 6))\n",
        "# print(calculate_area('triangle', 7, 9))\n",
        "# print(calculate_area('pentagon', 5))"
      ]
    },
    {
      "cell_type": "code",
      "metadata": {
        "colab": {
          "base_uri": "https://localhost:8080/"
        },
        "id": "8a0c2cd2",
        "outputId": "e5afd065-4192-4512-f34e-f9a8406ff845"
      },
      "source": [
        "shape_input = input(\"Enter the shape (circle, square, rectangle, or triangle): \").lower()\n",
        "\n",
        "if shape_input == 'circle':\n",
        "    try:\n",
        "        radius_input = float(input(\"Enter the radius: \"))\n",
        "        area = calculate_area(shape_input, radius_input)\n",
        "        if area is not None:\n",
        "            print(f\"The area of the circle is: {area}\")\n",
        "    except ValueError:\n",
        "        print(\"Invalid input for radius. Please enter a number.\")\n",
        "elif shape_input == 'square':\n",
        "    try:\n",
        "        side_input = float(input(\"Enter the side length: \"))\n",
        "        area = calculate_area(shape_input, side_input)\n",
        "        if area is not None:\n",
        "            print(f\"The area of the square is: {area}\")\n",
        "    except ValueError:\n",
        "        print(\"Invalid input for side length. Please enter a number.\")\n",
        "elif shape_input == 'rectangle':\n",
        "    try:\n",
        "        length_input = float(input(\"Enter the length: \"))\n",
        "        width_input = float(input(\"Enter the width: \"))\n",
        "        area = calculate_area(shape_input, length_input, width_input)\n",
        "        if area is not None:\n",
        "            print(f\"The area of the rectangle is: {area}\")\n",
        "    except ValueError:\n",
        "        print(\"Invalid input for length or width. Please enter numbers.\")\n",
        "elif shape_input == 'triangle':\n",
        "    try:\n",
        "        base_input = float(input(\"Enter the base: \"))\n",
        "        height_input = float(input(\"Enter the height: \"))\n",
        "        area = calculate_area(shape_input, base_input, height_input)\n",
        "        if area is not None:\n",
        "            print(f\"The area of the triangle is: {area}\")\n",
        "    except ValueError:\n",
        "        print(\"Invalid input for base or height. Please enter numbers.\")\n",
        "else:\n",
        "    print(\"Invalid shape entered. Please choose from circle, square, rectangle, or triangle.\")"
      ],
      "execution_count": 2,
      "outputs": [
        {
          "output_type": "stream",
          "name": "stdout",
          "text": [
            "Enter the shape (circle, square, rectangle, or triangle): circle\n",
            "Enter the radius: 2\n",
            "The area of the circle is: 12.566370614359172\n"
          ]
        }
      ]
    }
  ]
}