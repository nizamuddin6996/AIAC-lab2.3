{
  "nbformat": 4,
  "nbformat_minor": 0,
  "metadata": {
    "colab": {
      "provenance": [],
      "authorship_tag": "ABX9TyO9O3PLKwotXxQylhmVKzYu",
      "include_colab_link": true
    },
    "kernelspec": {
      "name": "python3",
      "display_name": "Python 3"
    },
    "language_info": {
      "name": "python"
    }
  },
  "cells": [
    {
      "cell_type": "markdown",
      "metadata": {
        "id": "view-in-github",
        "colab_type": "text"
      },
      "source": [
        "<a href=\"https://colab.research.google.com/github/nizamuddin6996/AIAC-lab2.3/blob/main/lab2_3task5.ipynb\" target=\"_parent\"><img src=\"https://colab.research.google.com/assets/colab-badge.svg\" alt=\"Open In Colab\"/></a>"
      ]
    },
    {
      "cell_type": "code",
      "execution_count": null,
      "metadata": {
        "id": "nNKBBr_f1QfR"
      },
      "outputs": [],
      "source": []
    },
    {
      "cell_type": "markdown",
      "source": [
        "ask Description#5\n",
        "● Student need to write code to calculate sum of add number and even numbers in the\n",
        "list\n",
        "Expected Output#5\n",
        "● Refactored code written by student with improved logic"
      ],
      "metadata": {
        "id": "9P5ACsLd1RiK"
      }
    },
    {
      "cell_type": "code",
      "source": [
        "# Take input from the user as a string\n",
        "input_string = input(\"Enter a list of numbers separated by spaces: \")\n",
        "\n",
        "# Split the input string into a list of strings\n",
        "number_strings = input_string.split()\n",
        "\n",
        "# Convert the list of strings to a list of integers\n",
        "numbers = [int(num) for num in number_strings]\n",
        "\n",
        "# Initialize sums for odd and even numbers\n",
        "sum_odd = 0\n",
        "sum_even = 0\n",
        "\n",
        "# Iterate through the list\n",
        "for number in numbers:\n",
        "    if number % 2 == 0:\n",
        "        # If the number is even, add it to the even sum\n",
        "        sum_even += number\n",
        "    else:\n",
        "        # If the number is odd, add it to the odd sum\n",
        "        sum_odd += number\n",
        "\n",
        "# Print the results\n",
        "print(f\"Sum of odd numbers: {sum_odd}\")\n",
        "print(f\"Sum of even numbers: {sum_even}\")"
      ],
      "metadata": {
        "colab": {
          "base_uri": "https://localhost:8080/"
        },
        "id": "hAGMXt1Q1fH5",
        "outputId": "2269f3ad-834c-4573-d81f-9d5236a14c20"
      },
      "execution_count": 3,
      "outputs": [
        {
          "output_type": "stream",
          "name": "stdout",
          "text": [
            "Enter a list of numbers separated by spaces: 23 45 67 86\n",
            "Sum of odd numbers: 135\n",
            "Sum of even numbers: 86\n"
          ]
        }
      ]
    }
  ]
}